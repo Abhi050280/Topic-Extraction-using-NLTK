{
 "cells": [
  {
   "cell_type": "code",
   "execution_count": 1,
   "metadata": {},
   "outputs": [
    {
     "name": "stdout",
     "output_type": "stream",
     "text": [
      "When converting a lead into account the Protective Venting submarket field is not taken over. After conversion it has to be re-entered manually. Can you fix this? TXS, Korina @PSD Global Account Managers I noticed that in the emails we save in SF, when there is a website address (gore.com for example) the whole URL address appears. It takes a lot of place in the email and it is not user friendly to read the emails afterwards. Below a link I picked up as example. Is there a solution to avoid this?  - https://gore.lightning.force.com/lightning/r/Task/00T3Z000046kAguUAE/view\n"
     ]
    }
   ],
   "source": [
    "text='When converting a lead into account the Protective Venting submarket field is not taken over. After conversion it has to be re-entered manually. Can you fix this? TXS, Korina @PSD Global Account Managers I noticed that in the emails we save in SF, when there is a website address (gore.com for example) the whole URL address appears. It takes a lot of place in the email and it is not user friendly to read the emails afterwards. Below a link I picked up as example. Is there a solution to avoid this?  - https://gore.lightning.force.com/lightning/r/Task/00T3Z000046kAguUAE/view'\n",
    "print(text)"
   ]
  },
  {
   "cell_type": "code",
   "execution_count": 2,
   "metadata": {},
   "outputs": [],
   "source": [
    "from gensim.summarization import summarize\n",
    "from gensim.summarization import keywords"
   ]
  },
  {
   "cell_type": "code",
   "execution_count": 3,
   "metadata": {},
   "outputs": [
    {
     "name": "stdout",
     "output_type": "stream",
     "text": [
      "TXS, Korina @PSD Global Account Managers I noticed that in the emails we save in SF, when there is a website address (gore.com for example) the whole URL address appears.\n"
     ]
    }
   ],
   "source": [
    "print(summarize(text, word_count=30))"
   ]
  },
  {
   "cell_type": "code",
   "execution_count": 4,
   "metadata": {},
   "outputs": [
    {
     "name": "stdout",
     "output_type": "stream",
     "text": [
      "TXS, Korina @PSD Global Account Managers I noticed that in the emails we save in SF, when there is a website address (gore.com for example) the whole URL address appears.\n"
     ]
    }
   ],
   "source": [
    "print(summarize(text))"
   ]
  },
  {
   "cell_type": "code",
   "execution_count": 5,
   "metadata": {},
   "outputs": [
    {
     "name": "stdout",
     "output_type": "stream",
     "text": [
      "['address', 'gore', 'venting submarket', 'account']\n"
     ]
    }
   ],
   "source": [
    "print(keywords(text,split=True))"
   ]
  },
  {
   "cell_type": "code",
   "execution_count": 6,
   "metadata": {},
   "outputs": [
    {
     "data": {
      "text/plain": [
       "['protective venting submarket field',\n",
       " 'whole url address appears',\n",
       " 'psd global account managers',\n",
       " 'https :// gore',\n",
       " 'website address',\n",
       " 'user friendly',\n",
       " 'entered manually',\n",
       " 'emails afterwards',\n",
       " 'account',\n",
       " 'gore',\n",
       " 'emails',\n",
       " 'view',\n",
       " 'txs',\n",
       " 'task',\n",
       " 'takes',\n",
       " 'taken',\n",
       " 'solution',\n",
       " 'sf',\n",
       " 'save',\n",
       " 'read',\n",
       " 'r',\n",
       " 'place',\n",
       " 'picked',\n",
       " 'noticed',\n",
       " 'lot',\n",
       " 'link',\n",
       " 'lightning',\n",
       " 'lead',\n",
       " 'korina',\n",
       " 'force',\n",
       " 'fix',\n",
       " 'example',\n",
       " 'email',\n",
       " 'converting',\n",
       " 'conversion',\n",
       " 'com',\n",
       " 'avoid',\n",
       " '00t3z000046kaguuae']"
      ]
     },
     "execution_count": 6,
     "metadata": {},
     "output_type": "execute_result"
    }
   ],
   "source": [
    "from rake_nltk import Rake\n",
    "\n",
    "r = Rake() # Uses stopwords for english from NLTK, and all puntuation characters.\n",
    "\n",
    "r.extract_keywords_from_text(text)\n",
    "\n",
    "r.get_ranked_phrases() # To get keyword phrases ranked highest to lowest.\n"
   ]
  },
  {
   "cell_type": "code",
   "execution_count": null,
   "metadata": {},
   "outputs": [],
   "source": []
  }
 ],
 "metadata": {
  "kernelspec": {
   "display_name": "Python 3",
   "language": "python",
   "name": "python3"
  },
  "language_info": {
   "codemirror_mode": {
    "name": "ipython",
    "version": 3
   },
   "file_extension": ".py",
   "mimetype": "text/x-python",
   "name": "python",
   "nbconvert_exporter": "python",
   "pygments_lexer": "ipython3",
   "version": "3.7.4"
  }
 },
 "nbformat": 4,
 "nbformat_minor": 4
}
